{
 "cells": [
  {
   "cell_type": "code",
   "execution_count": 28,
   "id": "9810380d",
   "metadata": {},
   "outputs": [],
   "source": [
    "import sqlite3\n"
   ]
  },
  {
   "cell_type": "code",
   "execution_count": 29,
   "id": "0c51359e",
   "metadata": {},
   "outputs": [],
   "source": [
    "con=sqlite3.connect('result_database2.db')\n"
   ]
  },
  {
   "cell_type": "code",
   "execution_count": 30,
   "id": "b786ba87",
   "metadata": {},
   "outputs": [],
   "source": [
    "cur=con.cursor()\n"
   ]
  },
  {
   "cell_type": "code",
   "execution_count": 31,
   "id": "c3825282",
   "metadata": {},
   "outputs": [],
   "source": [
    "create_tbl='''create table if not exists result_tbl\n",
    "              (\n",
    "                  Student_id int Primary key,\n",
    "                  Student_name text NOT NULL,\n",
    "                  subject1_marks int,\n",
    "                  subject2_marks int,\n",
    "                  subject3_marks int,\n",
    "                  subject4_marks int,\n",
    "                  subject5_marks int)'''"
   ]
  },
  {
   "cell_type": "code",
   "execution_count": 32,
   "id": "fc5113c8",
   "metadata": {},
   "outputs": [
    {
     "data": {
      "text/plain": [
       "<sqlite3.Cursor at 0x1efef3698c0>"
      ]
     },
     "execution_count": 32,
     "metadata": {},
     "output_type": "execute_result"
    }
   ],
   "source": [
    "cur.execute(create_tbl)\n"
   ]
  },
  {
   "cell_type": "code",
   "execution_count": 33,
   "id": "38853fdd",
   "metadata": {},
   "outputs": [],
   "source": [
    "insert_record='''insert into result_tbl values(1,'Jay Sharma',67,78,77,88,56),\n",
    "                                              (2,'Shree Patel',75,77,65,87,66),\n",
    "                                              (3,'Ram Sharma',67,78,77,88,56),\n",
    "                                              (4,'Ram Patel',49,35,45,58,60),\n",
    "                                              (5,'Shiv Desai',55,40,67,68,56),\n",
    "                                              (6,'Shivu Patel',92,93,96,88,85),\n",
    "                                              (7,'Krishna Prajapati',29,35,43,40,51),\n",
    "                                              (8,'Krish Patel',70,65,55,62,56),\n",
    "                                              (9,'Radhika Sharma',87,85,77,70,88),\n",
    "                                              (10,'Radha Desai',89,98,87,88,86)'''\n"
   ]
  },
  {
   "cell_type": "code",
   "execution_count": 34,
   "id": "4c1b69f4",
   "metadata": {},
   "outputs": [
    {
     "ename": "OperationalError",
     "evalue": "database is locked",
     "output_type": "error",
     "traceback": [
      "\u001b[1;31m---------------------------------------------------------------------------\u001b[0m",
      "\u001b[1;31mOperationalError\u001b[0m                          Traceback (most recent call last)",
      "Cell \u001b[1;32mIn[34], line 1\u001b[0m\n\u001b[1;32m----> 1\u001b[0m \u001b[43mcur\u001b[49m\u001b[38;5;241;43m.\u001b[39;49m\u001b[43mexecute\u001b[49m\u001b[43m(\u001b[49m\u001b[43minsert_record\u001b[49m\u001b[43m)\u001b[49m\n",
      "\u001b[1;31mOperationalError\u001b[0m: database is locked"
     ]
    }
   ],
   "source": [
    "cur.execute(insert_record)\n"
   ]
  },
  {
   "cell_type": "code",
   "execution_count": null,
   "id": "06b3609d",
   "metadata": {},
   "outputs": [],
   "source": [
    "records='select * from result_tbl'\n",
    "cur.execute(records)\n",
    "data=cur.fetchall()"
   ]
  },
  {
   "cell_type": "code",
   "execution_count": null,
   "id": "aa76ce1f",
   "metadata": {},
   "outputs": [],
   "source": [
    "import csv\n"
   ]
  },
  {
   "cell_type": "code",
   "execution_count": 35,
   "id": "917512c1",
   "metadata": {},
   "outputs": [],
   "source": [
    "with open('result.csv', 'w+', newline='') as file:\n",
    "    fileobj = csv.writer(file)\n",
    "    head = ['Student_ID', 'Student_Name', 'Subject1_Marks', 'Subject2_Marks', 'Subject3_Marks', 'Subject4_Marks', 'Subject5_Marks']\n",
    "    fileobj.writerow(head)\n",
    "    fileobj.writerows(data)"
   ]
  },
  {
   "cell_type": "code",
   "execution_count": 37,
   "id": "f1afeb5d",
   "metadata": {},
   "outputs": [
    {
     "name": "stdout",
     "output_type": "stream",
     "text": [
      "Student_ID,Student_Name,Subject1_Marks,Subject2_Marks,Subject3_Marks,Subject4_Marks,Subject5_Marks,Total_Marks,Percentage,Grade\r\n",
      "\n",
      "1,Jay Sharma,67,78,77,88,56,366,73.2,B\r\n",
      "\n",
      "2,Shree Patel,75,77,65,87,66,370,74.0,B\r\n",
      "\n",
      "3,Ram Sharma,67,78,77,88,56,366,73.2,B\r\n",
      "\n",
      "4,Ram Patel,49,35,45,58,60,247,49.4,D\r\n",
      "\n",
      "5,Shiv Desai,55,40,67,68,56,286,57.199999999999996,C\r\n",
      "\n",
      "6,Shivu Patel,92,93,96,88,85,454,90.8,A+\r\n",
      "\n",
      "7,Krishna Prajapati,29,35,43,40,51,198,39.6,D\r\n",
      "\n",
      "8,Krish Patel,70,65,55,62,56,308,61.6,C\r\n",
      "\n",
      "9,Radhika Sharma,87,85,77,70,88,407,81.39999999999999,A\r\n",
      "\n",
      "10,Radha Desai,89,98,87,88,86,448,89.60000000000001,A\r\n",
      "\n"
     ]
    }
   ],
   "source": [
    "with open('result.csv', 'r', newline='') as file, open('mainresult2.csv', 'w+', newline='') as file2:\n",
    "    allre=csv.reader(file)\n",
    "    fileobj=csv.writer(file2)\n",
    "    head=next(allre)\n",
    "    head.extend(['Total_Marks','Percentage','Grade'])\n",
    "    fileobj.writerow(head)\n",
    "    for i in allre:\n",
    "        totalmarks=int(i[2])+int(i[3])+int(i[4])+int(i[5])+int(i[6])\n",
    "        i.append(totalmarks)\n",
    "        percentage=i[7]/500*100\n",
    "        if percentage >= 90:\n",
    "            grade = 'A+'\n",
    "        elif percentage >= 80:\n",
    "            grade = 'A'\n",
    "        elif percentage >= 70:\n",
    "            grade = 'B'\n",
    "        elif percentage >=55 and percentage < 70:\n",
    "            grade = 'C'\n",
    "        elif percentage >=30 and percentage < 55 :\n",
    "            grade = 'D'\n",
    "        else:\n",
    "            grade = 'Fail'\n",
    "        i.extend([percentage,grade])\n",
    "        fileobj.writerow(i)\n",
    "    file2.seek(0)\n",
    "    \n",
    "    allrecords = file2.readlines()\n",
    "    for record in allrecords: \n",
    "            print(record)"
   ]
  },
  {
   "cell_type": "code",
   "execution_count": 38,
   "id": "6e573cc1",
   "metadata": {},
   "outputs": [
    {
     "name": "stdout",
     "output_type": "stream",
     "text": [
      " Student_ID      Student_Name       Percentage   \n",
      "-----------------------------------------------------\n",
      "     6           Shivu Patel           90.8       \n",
      "     10          Radha Desai      89.60000000000001 \n",
      "     9          Radhika Sharma    81.39999999999999 \n"
     ]
    }
   ],
   "source": [
    "with open('mainresult2.csv', 'r', newline='') as file2:\n",
    "    head = next(file2)\n",
    "    header = \"{:^12} {:^20} {:^15}\\n-----------------------------------------------------\".format('Student_ID', 'Student_Name', 'Percentage')\n",
    "    print(header)\n",
    "    d = csv.reader(file2)\n",
    "    d = sorted(d, key=lambda stud: stud[8], reverse=True)\n",
    "    c=0\n",
    "\n",
    "    for i in d:\n",
    "        record_line = \"{:^12} {:^20} {:^15} \".format(i[0], i[1], i[8])\n",
    "        print(record_line)\n",
    "        c+=1\n",
    "        if c==3:\n",
    "            break"
   ]
  },
  {
   "cell_type": "code",
   "execution_count": null,
   "id": "4671fc30",
   "metadata": {},
   "outputs": [],
   "source": []
  }
 ],
 "metadata": {
  "kernelspec": {
   "display_name": "Python 3 (ipykernel)",
   "language": "python",
   "name": "python3"
  },
  "language_info": {
   "codemirror_mode": {
    "name": "ipython",
    "version": 3
   },
   "file_extension": ".py",
   "mimetype": "text/x-python",
   "name": "python",
   "nbconvert_exporter": "python",
   "pygments_lexer": "ipython3",
   "version": "3.11.4"
  }
 },
 "nbformat": 4,
 "nbformat_minor": 5
}
